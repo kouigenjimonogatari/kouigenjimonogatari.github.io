{
 "cells": [
  {
   "cell_type": "code",
   "execution_count": 6,
   "metadata": {},
   "outputs": [],
   "source": [
    "import glob\n",
    "from tqdm import tqdm\n",
    "import os"
   ]
  },
  {
   "cell_type": "code",
   "execution_count": 9,
   "metadata": {},
   "outputs": [
    {
     "name": "stderr",
     "output_type": "stream",
     "text": [
      "100%|██████████| 54/54 [00:00<00:00, 794.83it/s]\n"
     ]
    }
   ],
   "source": [
    "files = glob.glob(\"../../xml/lw/*.xml\")\n",
    "\n",
    "files.sort()\n",
    "\n",
    "for file in tqdm(files):\n",
    "\n",
    "    opath = \"../../xml/xsl/\" + file.split(\"/\")[-1]\n",
    "\n",
    "    # print(file)\n",
    "    with open(file, 'r') as f:\n",
    "        text = f.read()\n",
    "        \n",
    "        text = text.replace('<TEI xmlns=\"http://www.tei-c.org/ns/1.0\">', '<?xml-stylesheet type=\"text/xsl\" href=\"../../xsl/mirador.xsl\"?>\\n<TEI xmlns=\"http://www.tei-c.org/ns/1.0\">')\n",
    "\n",
    "    os.makedirs(os.path.dirname(opath), exist_ok=True)\n",
    "\n",
    "    with open(opath, 'w') as f:\n",
    "        f.write(text)\n",
    "\n",
    "    # break"
   ]
  }
 ],
 "metadata": {
  "kernelspec": {
   "display_name": ".venv",
   "language": "python",
   "name": "python3"
  },
  "language_info": {
   "codemirror_mode": {
    "name": "ipython",
    "version": 3
   },
   "file_extension": ".py",
   "mimetype": "text/x-python",
   "name": "python",
   "nbconvert_exporter": "python",
   "pygments_lexer": "ipython3",
   "version": "3.9.11"
  }
 },
 "nbformat": 4,
 "nbformat_minor": 2
}
