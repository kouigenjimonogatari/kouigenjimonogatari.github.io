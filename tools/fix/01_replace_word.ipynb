{
 "cells": [
  {
   "cell_type": "code",
   "execution_count": 2,
   "metadata": {},
   "outputs": [
    {
     "name": "stdout",
     "output_type": "stream",
     "text": [
      "../../tei/48.xml\n",
      "../../tei/49.xml\n",
      "../../tei/28.xml\n",
      "../../tei/14.xml\n",
      "../../tei/15.xml\n",
      "../../tei/01.xml\n",
      "../../tei/29.xml\n",
      "../../tei/17.xml\n",
      "../../tei/03.xml\n",
      "../../tei/02.xml\n",
      "../../tei/16.xml\n",
      "../../tei/12.xml\n",
      "../../tei/06.xml\n",
      "../../tei/07.xml\n",
      "../../tei/13.xml\n",
      "../../tei/05.xml\n",
      "../../tei/11.xml\n",
      "../../tei/39.xml\n",
      "../../tei/38.xml\n",
      "../../tei/10.xml\n",
      "../../tei/04.xml\n",
      "../../tei/09.xml\n",
      "../../tei/21.xml\n",
      "../../tei/35.xml\n",
      "../../tei/34.xml\n",
      "../../tei/20.xml\n",
      "../../tei/08.xml\n",
      "../../tei/36.xml\n",
      "../../tei/22.xml\n",
      "../../tei/23.xml\n",
      "../../tei/37.xml\n",
      "../../tei/33.xml\n",
      "../../tei/27.xml\n",
      "../../tei/26.xml\n",
      "../../tei/32.xml\n",
      "../../tei/24.xml\n",
      "../../tei/30.xml\n",
      "../../tei/18.xml\n",
      "../../tei/19.xml\n",
      "../../tei/31.xml\n",
      "../../tei/25.xml\n",
      "../../tei/42.xml\n",
      "../../tei/43.xml\n",
      "../../tei/41.xml\n",
      "../../tei/40.xml\n",
      "../../tei/54.xml\n",
      "../../tei/50.xml\n",
      "../../tei/44.xml\n",
      "../../tei/45.xml\n",
      "../../tei/51.xml\n",
      "../../tei/47.xml\n",
      "../../tei/53.xml\n",
      "../../tei/52.xml\n",
      "../../tei/46.xml\n"
     ]
    }
   ],
   "source": [
    "import glob\n",
    "files = glob.glob(\"../../tei/*.xml\")\n",
    "\n",
    "for file in files:\n",
    "    # print(file)\n",
    "    with open(file, 'r') as f:\n",
    "        text = f.read()\n",
    "        text = text.replace(\"𠅘\", \"亭\")\n",
    "\n",
    "    with open(file, 'w') as f:\n",
    "        f.write(text)"
   ]
  }
 ],
 "metadata": {
  "kernelspec": {
   "display_name": "Python 3.10.6 64-bit",
   "language": "python",
   "name": "python3"
  },
  "language_info": {
   "codemirror_mode": {
    "name": "ipython",
    "version": 3
   },
   "file_extension": ".py",
   "mimetype": "text/x-python",
   "name": "python",
   "nbconvert_exporter": "python",
   "pygments_lexer": "ipython3",
   "version": "3.10.6"
  },
  "orig_nbformat": 4,
  "vscode": {
   "interpreter": {
    "hash": "b0fa6594d8f4cbf19f97940f81e996739fb7646882a419484c72d19e05852a7e"
   }
  }
 },
 "nbformat": 4,
 "nbformat_minor": 2
}
